{
 "cells": [
  {
   "cell_type": "code",
   "execution_count": 4,
   "metadata": {},
   "outputs": [],
   "source": [
    "import spacy"
   ]
  },
  {
   "cell_type": "code",
   "execution_count": 6,
   "metadata": {},
   "outputs": [],
   "source": [
    "nlp = spacy.load(\"en_core_web_sm\")"
   ]
  },
  {
   "cell_type": "code",
   "execution_count": 9,
   "metadata": {},
   "outputs": [
    {
     "name": "stdout",
     "output_type": "stream",
     "text": [
      "So hi Islam How are you, sir? \n",
      "Great. \n",
      "Oh, we just want to understand from where you come, you know, Why have you chosen India as your destination for higher education? So just a few basic questions about your life and you know How are you coping you know living you're leaving your friends and family back in your country and you know coming you know, miles away staying in a new country how is it so if you can give me like a short introduction from there you can you know, we all are there in our family. \n",
      "So, okay, first of all, I am Islam Salem, I'm from Yemen, actually. And like, I choose India because my father he was like, came he was coming he was like gaming in the Okay. And after that, he liked the culture and he like, like, oh, there is like, the understand like, for the studying is so good for them. So he also came after his for his masters or for his graduation for mastery. live master. He did bachelor of computer application like what I'm doing right now is not about like, no, he told me she was dead. Because like, I'm interested with computer in this stuff. \n",
      "And how many siblings do you have? \n",
      "I have five siblings. One sister and three brothers. Okay. With them like we are four. \n",
      "So how do you come to India \n",
      "as a direct flight we have to take like a via Dubai or some actually, like directly because there's only one company there. It's Yemen. Yeah. And it's good. Okay, so good.\n",
      "And after like, exactly from Yemen to India. Oh, no problem. \n",
      "So you chose India because your father gave me or a new thought that you know, because he studied your union want to come and see this place where he studied and exactly I was like, oh, like I will see like like a movie and the people Oh my god.\n",
      "\n",
      "What do you know anything about India before coming? \n",
      "I didn't know about Bollywood or you know, like, I you know, one. Only one thing I know it when I came here is the cricket I don't pay for. And one word, but yeah.\n",
      "Have you learned new more words anyway.\n",
      "So So now which university are you studying? \n",
      "I'm studying symbiosis. It's SICSR. I'm doing BCA. \n",
      "Okay, and how should you choose? A scholarship program? \n",
      "No. Okay, so how did you choose? How did you know about symbioses? \n",
      "Actually, I was studying English before like one year okay. I did six months CT English. Adult this LT so basis. Okay. Again, my friends told me about that. Okay, okay. So I just started there. And I was so much interesting about like going in college after doing the course. But so did when you came to India first deal. So of course you joined LTS and you joined symbioses but we were staying in a hostel. \n",
      "Are you staying as a PG or what are you stay in hostel? \n",
      "Okay. I didn't like it. Okay, but I haven't he was staying in our hostel. I mean, that's embarrassing. No, I was like, super in a private.\n",
      "I do not like it. Because it's not that good. Like, facilities wise. There is a lot of problems there. I don't need to say it here. Okay.\n",
      "So yeah, okay, but so when you stayed in the private hospital, did anybody help you find accommodation when you came? \n",
      "Yeah, that person that like the my friend that told me about? Okay, my says, Hey, bring me there. It was near from the elders. Okay. That's why I chose it. And I don't like it. And I have to like it because it's so close.\n",
      "So how do you commute? You have a bike? Right now, did you give it a thing? You're there. I've heard many stories about you and your bike. But yes. So so when you first came and so you took Yemen Bombay flight a man to Mumbai correct and then you came to Pune by road? \n",
      "Yeah, actually, I I came like the version that they bring me here. He says we'd love you to come by car I said no, I want train I want to get my train\n",
      "the trainer's weren't comfortable. No, we took the sheathing class or a class something like that. He told me like go into first I said no, I want like a movie.\n",
      "Floor right, you see? Exactly.\n",
      "But so now that you how many years have you been in India now one year, I completed one year and a month ago was sick. And then you were doing LTS for six months? Actually one and a half year practically. Exactly. Yeah. Okay. So anything interesting that I know a few interesting stories that have been with you, but anything interesting that has happened anything that you will want to share with us have you faced any discrimination because you don't look very different? Yeah, yeah. You\n",
      "You look very Indian you know, it's not that you know some students are very different so they face a lot of discrimination you know because of that, but you don't. You look very one amongst us. But having said that, do you Did you face any discrimination when you came to India? Like the when I everywhere I went, he told me to me indeed. I said, No, I'm not from India. He must have assumed you.\n",
      "You look like Baba. Yeah.\n",
      "No, I'm not from here. From outside. And he's starting talking in India. I don't know what the problem. Oh, because then there was a communication problem when you came. Yeah, exactly. So what is the average you spend in a month in a month? Tell me the truth.\n",
      "I used to I used to spend a lot of laptop in my father, my father. I'm tired. What does your father do? Flight and then? Yeah, so I used to talk to him. My my father, I'm tires and the money.\n",
      "And I used them.\n",
      "But like, actually, for, for one month? It's It's like $300 300. So if I could get Mom Oh, it's always gonna be Yeah. Okay. Okay. And in your college? How? I mean, how do you find your college or lectures? You know, done. Like every day do they teach in English? I mean, how is it? How's it experienced? The teachers are so great. No, you can tell me the truth. That's\n",
      "all good thing. No, no, exactly. Like, when also the students talking in Hindi. The teacher said like, there's so many students here they can speak English. They can speak Indian guy translate, like speak in English here. And how many how many students are there in Pune right now? In buena? Too much.\n",
      "There is only one number? Yeah, it's like, there is one. Association? Yes. So there is one or not. There is one area. It's called condo? Yeah. Okay. There is maximum third, three or 4000 units there in that Fuelie? Yeah, exactly. Do you want me missing whom are friends? Many of you just go in? Like my country? Yeah.\n",
      "But do all of them come on a scholarship or their cell phone did most of the cells or their cell phones? Okay, that's nice. But have you made friends anybody other than your many students, Yemeni students, other than in many other a lot from a lot of countries from Russia, from\n",
      "Sudan, from Egypt, from our country and outside country. I'm from India in from India.\n",
      "So what do you are now that you have spent some like one and a half years in India? Would you recommend India to your friends and family to come and study for sure like my my brother a he came here for one week ago? I talked to him your brother my brother yet? Is he studying? lts?\n",
      "So I talk with my family. It's so great. I like all my friends. If I have a chance to bring him here, I'll bring them all Okay, nice. Any one positive that you would like to tell us about your stay in India? Positive? Yeah. Any any one incident that you really remember? Like, some positive incident.\n",
      "Like it's so calm. It's so come here. Like it's so great for studying and positive things. People that give you motivation there. And like you have a lot of friends here is they become like family after. So this is the positive thing. Yeah. I do interact with so many students from different countries. So you kind of get like a flavor of every country. You know, just staying in Pune. It's all in one area. You know, like a lot of friends here. And they don't feel alone at all.\n",
      "So you have your own groups and your own set of people. Yeah, yes. So I think that's it anything you would want to tell us any any experience? Maybe you would want to share good bad, just the other day the buyer comes in.\n",
      "Nice. Thank you so much for doing this small informal interview with us. Thank you. Thank you so much.\n",
      "\n"
     ]
    }
   ],
   "source": [
    "with open (\"interview_1.txt\", \"r\") as f:\n",
    "    text = f.read()\n",
    "print(text)"
   ]
  },
  {
   "cell_type": "code",
   "execution_count": 11,
   "metadata": {},
   "outputs": [
    {
     "name": "stdout",
     "output_type": "stream",
     "text": [
      "So hi Islam How are you, sir? \n",
      "Great. \n",
      "Oh, we just want to understand from where you come, you know, Why have you chosen India as your destination for higher education? So just a few basic questions about your life and you know How are you coping you know living you're leaving your friends and family back in your country and you know coming you know, miles away staying in a new country how is it so if you can give me like a short introduction from there you can you know, we all are there in our family. \n",
      "So, okay, first of all, I am Islam Salem, I'm from Yemen, actually. And like, I choose India because my father he was like, came he was coming he was like gaming in the Okay. And after that, he liked the culture and he like, like, oh, there is like, the understand like, for the studying is so good for them. So he also came after his for his masters or for his graduation for mastery. live master. He did bachelor of computer application like what I'm doing right now is not about like, no, he told me she was dead. Because like, I'm interested with computer in this stuff. \n",
      "And how many siblings do you have? \n",
      "I have five siblings. One sister and three brothers. Okay. With them like we are four. \n",
      "So how do you come to India \n",
      "as a direct flight we have to take like a via Dubai or some actually, like directly because there's only one company there. It's Yemen. Yeah. And it's good. Okay, so good.\n",
      "And after like, exactly from Yemen to India. Oh, no problem. \n",
      "So you chose India because your father gave me or a new thought that you know, because he studied your union want to come and see this place where he studied and exactly I was like, oh, like I will see like like a movie and the people Oh my god.\n",
      "\n",
      "What do you know anything about India before coming? \n",
      "I didn't know about Bollywood or you know, like, I you know, one. Only one thing I know it when I came here is the cricket I don't pay for. And one word, but yeah.\n",
      "Have you learned new more words anyway.\n",
      "So So now which university are you studying? \n",
      "I'm studying symbiosis. It's SICSR. I'm doing BCA. \n",
      "Okay, and how should you choose? A scholarship program? \n",
      "No. Okay, so how did you choose? How did you know about symbioses? \n",
      "Actually, I was studying English before like one year okay. I did six months CT English. Adult this LT so basis. Okay. Again, my friends told me about that. Okay, okay. So I just started there. And I was so much interesting about like going in college after doing the course. But so did when you came to India first deal. So of course you joined LTS and you joined symbioses but we were staying in a hostel. \n",
      "Are you staying as a PG or what are you stay in hostel? \n",
      "Okay. I didn't like it. Okay, but I haven't he was staying in our hostel. I mean, that's embarrassing. No, I was like, super in a private.\n",
      "I do not like it. Because it's not that good. Like, facilities wise. There is a lot of problems there. I don't need to say it here. Okay.\n",
      "So yeah, okay, but so when you stayed in the private hospital, did anybody help you find accommodation when you came? \n",
      "Yeah, that person that like the my friend that told me about? Okay, my says, Hey, bring me there. It was near from the elders. Okay. That's why I chose it. And I don't like it. And I have to like it because it's so close.\n",
      "So how do you commute? You have a bike? Right now, did you give it a thing? You're there. I've heard many stories about you and your bike. But yes. So so when you first came and so you took Yemen Bombay flight a man to Mumbai correct and then you came to Pune by road? \n",
      "Yeah, actually, I I came like the version that they bring me here. He says we'd love you to come by car I said no, I want train I want to get my train\n",
      "the trainer's weren't comfortable. No, we took the sheathing class or a class something like that. He told me like go into first I said no, I want like a movie.\n",
      "Floor right, you see? Exactly.\n",
      "But so now that you how many years have you been in India now one year, I completed one year and a month ago was sick. And then you were doing LTS for six months? Actually one and a half year practically. Exactly. Yeah. Okay. So anything interesting that I know a few interesting stories that have been with you, but anything interesting that has happened anything that you will want to share with us have you faced any discrimination because you don't look very different? Yeah, yeah. You\n",
      "You look very Indian you know, it's not that you know some students are very different so they face a lot of discrimination you know because of that, but you don't. You look very one amongst us. But having said that, do you Did you face any discrimination when you came to India? Like the when I everywhere I went, he told me to me indeed. I said, No, I'm not from India. He must have assumed you.\n",
      "You look like Baba. Yeah.\n",
      "No, I'm not from here. From outside. And he's starting talking in India. I don't know what the problem. Oh, because then there was a communication problem when you came. Yeah, exactly. So what is the average you spend in a month in a month? Tell me the truth.\n",
      "I used to I used to spend a lot of laptop in my father, my father. I'm tired. What does your father do? Flight and then? Yeah, so I used to talk to him. My my father, I'm tires and the money.\n",
      "And I used them.\n",
      "But like, actually, for, for one month? It's It's like $300 300. So if I could get Mom Oh, it's always gonna be Yeah. Okay. Okay. And in your college? How? I mean, how do you find your college or lectures? You know, done. Like every day do they teach in English? I mean, how is it? How's it experienced? The teachers are so great. No, you can tell me the truth. That's\n",
      "all good thing. No, no, exactly. Like, when also the students talking in Hindi. The teacher said like, there's so many students here they can speak English. They can speak Indian guy translate, like speak in English here. And how many how many students are there in Pune right now? In buena? Too much.\n",
      "There is only one number? Yeah, it's like, there is one. Association? Yes. So there is one or not. There is one area. It's called condo? Yeah. Okay. There is maximum third, three or 4000 units there in that Fuelie? Yeah, exactly. Do you want me missing whom are friends? Many of you just go in? Like my country? Yeah.\n",
      "But do all of them come on a scholarship or their cell phone did most of the cells or their cell phones? Okay, that's nice. But have you made friends anybody other than your many students, Yemeni students, other than in many other a lot from a lot of countries from Russia, from\n",
      "Sudan, from Egypt, from our country and outside country. I'm from India in from India.\n",
      "So what do you are now that you have spent some like one and a half years in India? Would you recommend India to your friends and family to come and study for sure like my my brother a he came here for one week ago? I talked to him your brother my brother yet? Is he studying? lts?\n",
      "So I talk with my family. It's so great. I like all my friends. If I have a chance to bring him here, I'll bring them all Okay, nice. Any one positive that you would like to tell us about your stay in India? Positive? Yeah. Any any one incident that you really remember? Like, some positive incident.\n",
      "Like it's so calm. It's so come here. Like it's so great for studying and positive things. People that give you motivation there. And like you have a lot of friends here is they become like family after. So this is the positive thing. Yeah. I do interact with so many students from different countries. So you kind of get like a flavor of every country. You know, just staying in Pune. It's all in one area. You know, like a lot of friends here. And they don't feel alone at all.\n",
      "So you have your own groups and your own set of people. Yeah, yes. So I think that's it anything you would want to tell us any any experience? Maybe you would want to share good bad, just the other day the buyer comes in.\n",
      "Nice. Thank you so much for doing this small informal interview with us. Thank you. Thank you so much.\n",
      "\n"
     ]
    }
   ],
   "source": [
    "doc = nlp(text)\n",
    "print(doc)"
   ]
  },
  {
   "cell_type": "code",
   "execution_count": 12,
   "metadata": {},
   "outputs": [
    {
     "name": "stdout",
     "output_type": "stream",
     "text": [
      "8023\n",
      "1943\n"
     ]
    }
   ],
   "source": [
    "print(len(text))\n",
    "print(len(doc))"
   ]
  },
  {
   "cell_type": "code",
   "execution_count": 13,
   "metadata": {},
   "outputs": [
    {
     "name": "stdout",
     "output_type": "stream",
     "text": [
      "S\n",
      "o\n",
      " \n",
      "h\n",
      "i\n",
      " \n",
      "I\n",
      "s\n",
      "l\n",
      "a\n"
     ]
    }
   ],
   "source": [
    "for token in text[:10]:\n",
    "    print(token)"
   ]
  },
  {
   "cell_type": "code",
   "execution_count": 14,
   "metadata": {},
   "outputs": [
    {
     "name": "stdout",
     "output_type": "stream",
     "text": [
      "So\n",
      "hi\n",
      "Islam\n",
      "How\n",
      "are\n",
      "you\n",
      ",\n",
      "sir\n",
      "?\n",
      "\n",
      "\n"
     ]
    }
   ],
   "source": [
    "for token in doc[:10]:\n",
    "    print(token)"
   ]
  },
  {
   "cell_type": "code",
   "execution_count": 15,
   "metadata": {},
   "outputs": [
    {
     "name": "stdout",
     "output_type": "stream",
     "text": [
      "So hi Islam\n",
      "How are you, sir? \n",
      "\n",
      "Great. \n",
      "\n",
      "Oh, we just want to understand from where you come, you know, Why have you chosen India as your destination for higher education?\n",
      "So just a few basic questions about your life and you know How are you coping you know living you're leaving your friends and family back in your country and you know coming you know, miles away staying in a new country how is it so if you can give me like a short introduction from there you can you know, we all are there in our family. \n",
      "\n",
      "So, okay, first of all, I am Islam Salem, I'm from Yemen, actually.\n",
      "And like, I choose India because my father he was like, came he was coming he was like gaming in the Okay.\n",
      "And after that, he liked the culture and he like, like, oh, there is like, the understand like, for the studying is so good for them.\n",
      "So he also came after his for his masters or for his graduation for mastery.\n",
      "live master.\n",
      "He did bachelor of computer application like what I'm doing right now is not about like, no, he told me she was dead.\n",
      "Because like, I'm interested with computer in this stuff. \n",
      "\n",
      "And how many siblings do you have? \n",
      "\n",
      "I have five siblings.\n",
      "One sister and three brothers.\n",
      "Okay.\n",
      "With them like we are four. \n",
      "\n",
      "So how do you come to India \n",
      "as a direct flight we have to take like a via Dubai or some actually, like directly because there's only one company there.\n",
      "It's Yemen.\n",
      "Yeah.\n",
      "And it's good.\n",
      "Okay, so good.\n",
      "\n",
      "And after like, exactly from Yemen to India.\n",
      "Oh, no problem. \n",
      "\n",
      "So you chose India because your father gave me or a new thought that you know, because he studied your union want to come and see this place where he studied and exactly I was like, oh, like I will see like like a movie and the people\n",
      "Oh my god.\n",
      "\n",
      "\n",
      "What do you know anything about India before coming? \n",
      "\n",
      "I didn't know about Bollywood or you know, like, I you know, one.\n",
      "Only one thing I know it when I came here is the cricket I don't pay for.\n",
      "And one word, but yeah.\n",
      "\n",
      "Have you learned new more words anyway.\n",
      "\n",
      "So So now which university are you studying? \n",
      "\n",
      "I'm studying symbiosis.\n",
      "It's SICSR.\n",
      "I'm doing BCA. \n",
      "\n",
      "Okay, and how should you choose?\n",
      "A scholarship program? \n",
      "\n",
      "No.\n",
      "Okay, so how did you choose?\n",
      "How did you know about symbioses? \n",
      "\n",
      "Actually, I was studying English before like one year okay.\n",
      "I did six months CT English.\n",
      "Adult this LT so basis.\n",
      "Okay.\n",
      "Again, my friends told me about that.\n",
      "Okay, okay.\n",
      "So I just started there.\n",
      "And I was so much interesting about like going in college after doing the course.\n",
      "But so did when you came to India first deal.\n",
      "So of course you joined LTS and you joined symbioses but we were staying in a hostel. \n",
      "\n",
      "Are you staying as a PG or what are you stay in hostel? \n",
      "\n",
      "Okay.\n",
      "I didn't like it.\n",
      "Okay, but I haven't he was staying in our hostel.\n",
      "I mean, that's embarrassing.\n",
      "No, I was like, super in a private.\n",
      "\n",
      "I do not like it.\n",
      "Because it's not that good.\n",
      "Like, facilities wise.\n",
      "There is a lot of problems there.\n",
      "I don't need to say it here.\n",
      "Okay.\n",
      "\n",
      "So yeah,\n",
      "okay,\n",
      "but so when you stayed in the private hospital, did anybody help you find accommodation when you came? \n",
      "\n",
      "Yeah, that person that like the my friend that told me about?\n",
      "Okay, my says, Hey, bring me there.\n",
      "It was near from the elders.\n",
      "Okay.\n",
      "That's why I chose it.\n",
      "And I don't like it.\n",
      "And I have to like it because it's so close.\n",
      "\n",
      "So how do you commute?\n",
      "You have a bike?\n",
      "Right now, did you give it a thing?\n",
      "You're there.\n",
      "I've heard many stories about you and your bike.\n",
      "But yes.\n",
      "So so when you first came and so you took Yemen Bombay flight a man to Mumbai correct and then you came to Pune by road? \n",
      "\n",
      "Yeah, actually, I I came like the version that they bring me here.\n",
      "He says we'd love you to come by car I said no, I want train\n",
      "I want to get my train\n",
      "the trainer's weren't comfortable.\n",
      "No, we took the sheathing class or a class something like that.\n",
      "He told me like go into first\n",
      "I said no, I want like a movie.\n",
      "\n",
      "Floor right, you see?\n",
      "Exactly.\n",
      "\n",
      "But so now that you how many years have you been in India now one year, I completed one year and a month ago was sick.\n",
      "And then you were doing LTS for six months?\n",
      "Actually one and a half year practically.\n",
      "Exactly.\n",
      "Yeah.\n",
      "Okay.\n",
      "So anything interesting that I know a few interesting stories that have been with you, but anything interesting that has happened anything that you will want to share with us have you faced any discrimination because you don't look very different?\n",
      "Yeah,\n",
      "yeah.\n",
      "You\n",
      "You look very Indian you know, it's not that you know some students are very different so they face a lot of discrimination you know because of that, but you don't.\n",
      "You look very one amongst us.\n",
      "But having said that, do you Did you face any discrimination when you came to India?\n",
      "Like the when I everywhere I went, he told me to me indeed.\n",
      "I said, No, I'm not from India.\n",
      "He must have assumed you.\n",
      "\n",
      "You look like Baba.\n",
      "Yeah.\n",
      "\n",
      "No, I'm not from here.\n",
      "From outside.\n",
      "And he's starting talking in India.\n",
      "I don't know what the problem.\n",
      "Oh, because then there was a communication problem when you came.\n",
      "Yeah, exactly.\n",
      "So what is the average you spend in a month in a month?\n",
      "Tell me the truth.\n",
      "\n",
      "I used to I used to spend a lot of laptop in my father, my father.\n",
      "I'm tired.\n",
      "What does your father do?\n",
      "Flight and then?\n",
      "Yeah, so I used to talk to him.\n",
      "My my father, I'm tires and the money.\n",
      "\n",
      "And I used them.\n",
      "\n",
      "But like, actually, for, for one month?\n",
      "It's It's like $300 300.\n",
      "So if I could get Mom Oh, it's always gonna be Yeah.\n",
      "Okay.\n",
      "Okay.\n",
      "And in your college?\n",
      "How?\n",
      "I mean, how do you find your college or lectures?\n",
      "You know, done.\n",
      "Like every day do they teach in English?\n",
      "I mean, how is it?\n",
      "How's it experienced?\n",
      "The teachers are so great.\n",
      "No, you can tell me the truth.\n",
      "That's\n",
      "all good thing.\n",
      "No, no, exactly.\n",
      "Like, when also the students talking in Hindi.\n",
      "The teacher said like, there's so many students here they can speak English.\n",
      "They can speak Indian guy translate, like speak in English here.\n",
      "And how many how many students are there in Pune right now?\n",
      "In buena?\n",
      "Too much.\n",
      "\n",
      "There is only one number?\n",
      "Yeah, it's like, there is one.\n",
      "Association?\n",
      "Yes.\n",
      "So there is one or not.\n",
      "There is one area.\n",
      "It's called condo?\n",
      "Yeah.\n",
      "Okay.\n",
      "There is maximum third, three or 4000 units there in that Fuelie?\n",
      "Yeah, exactly.\n",
      "Do you want me missing whom are friends?\n",
      "Many of you just go in?\n",
      "Like my country?\n",
      "Yeah.\n",
      "\n",
      "But do all of them come on a scholarship or their cell phone did most of the cells or their cell phones?\n",
      "Okay, that's nice.\n",
      "But have you made friends anybody other than your many students, Yemeni students, other than in many other a lot from a lot of countries from Russia, from\n",
      "Sudan, from Egypt, from our country and outside country.\n",
      "I'm from India in from India.\n",
      "\n",
      "So what do you are now that you have spent some like one and a half years in India?\n",
      "Would you recommend India to your friends and family to come and study for sure like my my brother a he came here for one week ago?\n",
      "I talked to him your brother my brother yet?\n",
      "Is he studying?\n",
      "lts?\n",
      "\n",
      "So I talk with my family.\n",
      "It's so great.\n",
      "I like all my friends.\n",
      "If I have a chance to bring him here, I'll bring them all Okay, nice.\n",
      "Any one positive that you would like to tell us about your stay in India?\n",
      "Positive?\n",
      "Yeah.\n",
      "Any any one incident that you really remember?\n",
      "Like, some positive incident.\n",
      "\n",
      "Like it's so calm.\n",
      "It's so come here.\n",
      "Like it's so great for studying and positive things.\n",
      "People that give you motivation there.\n",
      "And like you have a lot of friends here is they become like family after.\n",
      "So this is the positive thing.\n",
      "Yeah.\n",
      "I do interact with so many students from different countries.\n",
      "So you kind of get like a flavor of every country.\n",
      "You know, just staying in Pune.\n",
      "It's all in one area.\n",
      "You know, like a lot of friends here.\n",
      "And they don't feel alone at all.\n",
      "\n",
      "So you have your own groups and your own set of people.\n",
      "Yeah, yes.\n",
      "So I think that's it anything you would want to tell us any any experience?\n",
      "Maybe you would want to share good bad, just the other day the buyer comes in.\n",
      "\n",
      "Nice.\n",
      "Thank you so much for doing this small informal interview with us.\n",
      "Thank you.\n",
      "Thank you so much.\n",
      "\n"
     ]
    }
   ],
   "source": [
    "for sent in doc.sents:\n",
    "    print(sent)"
   ]
  },
  {
   "cell_type": "code",
   "execution_count": 43,
   "metadata": {},
   "outputs": [
    {
     "name": "stdout",
     "output_type": "stream",
     "text": [
      "How are you, sir? \n",
      "\n"
     ]
    }
   ],
   "source": [
    "sentence1 = list(doc.sents)[1]\n",
    "print(sentence1)"
   ]
  },
  {
   "cell_type": "code",
   "execution_count": 45,
   "metadata": {},
   "outputs": [
    {
     "name": "stdout",
     "output_type": "stream",
     "text": [
      "How\n"
     ]
    }
   ],
   "source": [
    "token2 = sentence1[0]\n",
    "print(token2)"
   ]
  },
  {
   "cell_type": "code",
   "execution_count": 46,
   "metadata": {},
   "outputs": [
    {
     "data": {
      "text/plain": [
       "'How'"
      ]
     },
     "execution_count": 46,
     "metadata": {},
     "output_type": "execute_result"
    }
   ],
   "source": [
    "token2.text"
   ]
  },
  {
   "cell_type": "code",
   "execution_count": 48,
   "metadata": {},
   "outputs": [
    {
     "data": {
      "text/plain": [
       "How"
      ]
     },
     "execution_count": 48,
     "metadata": {},
     "output_type": "execute_result"
    }
   ],
   "source": [
    "token2.right_edge"
   ]
  },
  {
   "cell_type": "code",
   "execution_count": 52,
   "metadata": {},
   "outputs": [
    {
     "data": {
      "text/plain": [
       "'you'"
      ]
     },
     "execution_count": 52,
     "metadata": {},
     "output_type": "execute_result"
    }
   ],
   "source": [
    "sentence1[2].lemma_\n",
    "\n"
   ]
  },
  {
   "cell_type": "code",
   "execution_count": 54,
   "metadata": {},
   "outputs": [
    {
     "name": "stdout",
     "output_type": "stream",
     "text": [
      "you\n"
     ]
    }
   ],
   "source": [
    "print(sentence1[2])"
   ]
  },
  {
   "cell_type": "code",
   "execution_count": 57,
   "metadata": {},
   "outputs": [
    {
     "data": {
      "text/plain": [
       "Case=Nom|Person=2|PronType=Prs"
      ]
     },
     "execution_count": 57,
     "metadata": {},
     "output_type": "execute_result"
    }
   ],
   "source": [
    "sentence1[2].morph"
   ]
  },
  {
   "cell_type": "code",
   "execution_count": 60,
   "metadata": {},
   "outputs": [
    {
     "data": {
      "text/plain": [
       "'SCONJ'"
      ]
     },
     "execution_count": 60,
     "metadata": {},
     "output_type": "execute_result"
    }
   ],
   "source": [
    "token2.pos_"
   ]
  },
  {
   "cell_type": "code",
   "execution_count": 61,
   "metadata": {},
   "outputs": [
    {
     "data": {
      "text/plain": [
       "'en'"
      ]
     },
     "execution_count": 61,
     "metadata": {},
     "output_type": "execute_result"
    }
   ],
   "source": [
    "token2.lang_"
   ]
  }
 ],
 "metadata": {
  "kernelspec": {
   "display_name": "Python 3",
   "language": "python",
   "name": "python3"
  },
  "language_info": {
   "codemirror_mode": {
    "name": "ipython",
    "version": 3
   },
   "file_extension": ".py",
   "mimetype": "text/x-python",
   "name": "python",
   "nbconvert_exporter": "python",
   "pygments_lexer": "ipython3",
   "version": "3.10.1"
  }
 },
 "nbformat": 4,
 "nbformat_minor": 2
}
